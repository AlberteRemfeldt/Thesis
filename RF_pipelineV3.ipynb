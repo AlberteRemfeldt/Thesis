{
 "cells": [
  {
   "cell_type": "code",
   "execution_count": 1,
   "metadata": {},
   "outputs": [],
   "source": [
    "%load_ext autoreload\n",
    "%autoreload 2"
   ]
  },
  {
   "cell_type": "code",
   "execution_count": 2,
   "metadata": {},
   "outputs": [],
   "source": [
    "from Impute_Transformer import Imputer"
   ]
  },
  {
   "cell_type": "code",
   "execution_count": 3,
   "metadata": {},
   "outputs": [],
   "source": [
    "import numpy as np\n",
    "import pandas as pd\n",
    "import matplotlib.pyplot as plt\n",
    "import seaborn as sns\n",
    "import joblib\n",
    "from sklearn.model_selection import train_test_split, StratifiedKFold\n",
    "from sklearn.pipeline import make_pipeline\n",
    "from sklearn.ensemble import RandomForestClassifier\n",
    "from sklearn.metrics import accuracy_score\n",
    "from sklearn.metrics import roc_auc_score\n",
    "from sklearn.metrics import log_loss\n",
    "from skopt import BayesSearchCV\n",
    "from skopt.space import Real, Integer"
   ]
  },
  {
   "cell_type": "code",
   "execution_count": 4,
   "metadata": {},
   "outputs": [],
   "source": [
    "#Load data \n",
    "X = pd.read_csv(\"data/X_large.csv\")\n",
    "y = np.load(\"data/y_new.npy\")"
   ]
  },
  {
   "cell_type": "code",
   "execution_count": 5,
   "metadata": {},
   "outputs": [],
   "source": [
    "#split into test and training\n",
    "(X_train, X_test, y_train, y_test) = train_test_split(X, \n",
    "                                                      y, \n",
    "                                                      test_size = 0.2, \n",
    "                                                      random_state = 42)"
   ]
  },
  {
   "cell_type": "code",
   "execution_count": 6,
   "metadata": {},
   "outputs": [],
   "source": [
    "#list with catecorical cariables for imputer\n",
    "imp_cat_cols = ['physical_activity', 'platelets_isNormal', 'platelets_isIncreased','platelets_isDecreased', \n",
    "                'urine_albumin_isNegative','urine_albumin_is>=30', 'urine_albumin_is>=100', \n",
    "                'urine_albumin_is>=300', 'urine_albumin_is>=1000', 'urine_albumin_isTrace', \n",
    "                'urine_glucose_isNegative', 'urine_glucose_isLight', \n",
    "                'urine_glucose_isMedium','urine_glucose_isDark', \n",
    "                'urine_glucose_isVerydark','urine_glucose_isTrace', 'urine_hematest_isNegative', \n",
    "                'urine_hematest_isSmall', 'urine_hematest_isModerate', \n",
    "                'urine_hematest_isLarge','urine_hematest_isVerylarge', 'urine_hematest_isTrace']"
   ]
  },
  {
   "cell_type": "code",
   "execution_count": 7,
   "metadata": {},
   "outputs": [],
   "source": [
    "#define column transformer to make imputation\n",
    "imputer = Imputer(imp_cat_cols)\n",
    "#define rf model\n",
    "rf = RandomForestClassifier(random_state = 42, criterion = 'gini')\n",
    "#define rf pipe\n",
    "pipe_rf = make_pipeline(imputer, rf)\n",
    "#define param grid to search through\n",
    "param_search_rf = {\n",
    "    'randomforestclassifier__n_estimators': Integer(200,800),\n",
    "    'randomforestclassifier__max_depth': Integer(2, 10),\n",
    "    'randomforestclassifier__max_features': Real(0.1,0.4),\n",
    "\n",
    "}\n",
    "#define cv splits\n",
    "skf = StratifiedKFold(n_splits = 5, random_state=42, shuffle=True)\n",
    "#define rf grid\n",
    "grid_rf = BayesSearchCV(pipe_rf, \n",
    "                   search_spaces = param_search_rf,\n",
    "                   n_iter = 50,\n",
    "                   optimizer_kwargs = {'acq_func': 'EI'},\n",
    "                   scoring = 'neg_log_loss',\n",
    "                   n_jobs = -1,\n",
    "                   refit = True,\n",
    "                   cv = skf, \n",
    "                   random_state = 42)"
   ]
  },
  {
   "cell_type": "code",
   "execution_count": 8,
   "metadata": {},
   "outputs": [
    {
     "data": {
      "text/plain": [
       "BayesSearchCV(cv=StratifiedKFold(n_splits=5, random_state=42, shuffle=True),\n",
       "              estimator=Pipeline(steps=[('imputer',\n",
       "                                         Imputer(categorical_features=['physical_activity',\n",
       "                                                                       'platelets_isNormal',\n",
       "                                                                       'platelets_isIncreased',\n",
       "                                                                       'platelets_isDecreased',\n",
       "                                                                       'urine_albumin_isNegative',\n",
       "                                                                       'urine_albumin_is>=30',\n",
       "                                                                       'urine_albumin_is>=100',\n",
       "                                                                       'urine_albumin_is>=300',\n",
       "                                                                       'urine_albumin_is>=100...\n",
       "              n_jobs=-1, optimizer_kwargs={'acq_func': 'EI'}, random_state=42,\n",
       "              scoring='neg_log_loss',\n",
       "              search_spaces={'randomforestclassifier__max_depth': Integer(low=2, high=10, prior='uniform', transform='normalize'),\n",
       "                             'randomforestclassifier__max_features': Real(low=0.1, high=0.4, prior='uniform', transform='normalize'),\n",
       "                             'randomforestclassifier__n_estimators': Integer(low=200, high=800, prior='uniform', transform='normalize')})"
      ]
     },
     "execution_count": 8,
     "metadata": {},
     "output_type": "execute_result"
    }
   ],
   "source": [
    "grid_rf.fit(X_train, y_train)"
   ]
  },
  {
   "cell_type": "code",
   "execution_count": 10,
   "metadata": {},
   "outputs": [
    {
     "data": {
      "text/plain": [
       "['Results_NEW/RF_grid.pkl']"
      ]
     },
     "execution_count": 10,
     "metadata": {},
     "output_type": "execute_result"
    }
   ],
   "source": [
    "joblib.dump(grid_rf, 'Results/RF_grid.pkl')"
   ]
  }
 ],
 "metadata": {
  "interpreter": {
   "hash": "7a5e335ff2d0165f97b24ec78505e76f6491bb7656bd1655dc8df4969b2c8e72"
  },
  "kernelspec": {
   "display_name": "Python 3.9.5 64-bit ('thesis': conda)",
   "name": "python3"
  },
  "language_info": {
   "codemirror_mode": {
    "name": "ipython",
    "version": 3
   },
   "file_extension": ".py",
   "mimetype": "text/x-python",
   "name": "python",
   "nbconvert_exporter": "python",
   "pygments_lexer": "ipython3",
   "version": "3.9.5"
  },
  "orig_nbformat": 4
 },
 "nbformat": 4,
 "nbformat_minor": 2
}
